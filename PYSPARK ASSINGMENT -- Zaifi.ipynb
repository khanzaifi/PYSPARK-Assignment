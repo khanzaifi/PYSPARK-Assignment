{
 "cells": [
  {
   "cell_type": "code",
   "execution_count": 10,
   "id": "e082d6d9",
   "metadata": {},
   "outputs": [
    {
     "name": "stdout",
     "output_type": "stream",
     "text": [
      "+----+--------+---+------------------+-------------------+\n",
      "|S.no|    Name|Age|         Occuption|          Education|\n",
      "+----+--------+---+------------------+-------------------+\n",
      "|   1|   Shane| 36|        Kishan Lal|High School Diploma|\n",
      "|   2|     Ali| 30|          Engineer|    Master's Degree|\n",
      "|   3|  Sameer| 25|           Teacher| Doctor of Medicine|\n",
      "|   4|  Aakash| 35|            Doctor|  Bachelor's Degree|\n",
      "|   5|   Rohit| 28|Software Developer|  Bachelor's Degree|\n",
      "|   6|   Rahul| 40|        Accountant|  Bachelor's Degree|\n",
      "|   7|   Sumit| 29|  Graphic Designer|       Juris Doctor|\n",
      "|   8|   Ronak| 45|            Lawyer|  Bachelor's Degree|\n",
      "|   9|Priyanka| 32| Marketing Manager|High School Diploma|\n",
      "|  10| Fardeen| 27|           Student|  Bachelor's Degree|\n",
      "|  11|  Noshad| 38|             Nurse|  Bachelor's Degree|\n",
      "|  12|   Aakib| 31|         Architect|  Bachelor's Degree|\n",
      "|  13|    Nida| 33|        Journalist|  Bachelor's Degree|\n",
      "|  14|   Adiba| 42| Financial Analyst| Doctor of Pharmacy|\n",
      "|  15| chandni| 26|        Pharmacist|       Trade School|\n",
      "|  16|    Annu| 36|       Electrician|    Culinary School|\n",
      "|  17|    Aman| 29|              Chef|     Police Academy|\n",
      "|  18|  Anupma| 39|    Police Officer|    Master's Degree|\n",
      "|  19|  Salman| 34|         Librarian|  Bachelor's Degree|\n",
      "|  20|   Rehan| 37| Real Estate Agent|    Master's Degree|\n",
      "+----+--------+---+------------------+-------------------+\n",
      "only showing top 20 rows\n",
      "\n"
     ]
    }
   ],
   "source": [
    "from pyspark.sql import SparkSession\n",
    "\n",
    "# Create a SparkSession\n",
    "spark = SparkSession.builder.appName(\"Read CSV\").getOrCreate()\n",
    "\n",
    "# Read the CSV file into a DataFrame\n",
    "df = spark.read.csv(\"person_data.csv\", header=True)\n",
    "\n",
    "# Show the DataFrame\n",
    "df.show()"
   ]
  },
  {
   "cell_type": "code",
   "execution_count": 11,
   "id": "4466add1",
   "metadata": {},
   "outputs": [
    {
     "name": "stdout",
     "output_type": "stream",
     "text": [
      "+--------+---+\n",
      "|    Name|Age|\n",
      "+--------+---+\n",
      "|   Shane| 36|\n",
      "|     Ali| 30|\n",
      "|  Sameer| 25|\n",
      "|  Aakash| 35|\n",
      "|   Rohit| 28|\n",
      "|   Rahul| 40|\n",
      "|   Sumit| 29|\n",
      "|   Ronak| 45|\n",
      "|Priyanka| 32|\n",
      "| Fardeen| 27|\n",
      "|  Noshad| 38|\n",
      "|   Aakib| 31|\n",
      "|    Nida| 33|\n",
      "|   Adiba| 42|\n",
      "| chandni| 26|\n",
      "|    Annu| 36|\n",
      "|    Aman| 29|\n",
      "|  Anupma| 39|\n",
      "|  Salman| 34|\n",
      "|   Rehan| 37|\n",
      "+--------+---+\n",
      "only showing top 20 rows\n",
      "\n"
     ]
    }
   ],
   "source": [
    "# Create a PySpark DataFrame named df using the provided dataset and schema\n",
    "df = spark.read.csv(\"New_person_data.csv\", header=True, inferSchema=True)\n",
    "\n",
    "# Filter the DataFrame to select only the rows where age is greater than or equal to 25\n",
    "df_filtered = df.filter(df.Age >= 25)\n",
    "\n",
    "# Select only the \"name\" and \"age\" columns from the filtered DataFrame\n",
    "df_selected = df_filtered.select(\"Name\", \"Age\")\n",
    "\n",
    "# Display the resulting DataFrame\n",
    "df_selected.show()"
   ]
  },
  {
   "cell_type": "code",
   "execution_count": 3,
   "id": "1d5ef456",
   "metadata": {},
   "outputs": [
    {
     "name": "stdout",
     "output_type": "stream",
     "text": [
      "Average age: 33.72\n",
      "Maximum age: 45\n",
      "Minimum age: 25\n"
     ]
    }
   ],
   "source": [
    "# Calculate the average age of all the individuals in the DataFrame\n",
    "avg_age = df.agg({\"Age\": \"avg\"}).collect()[0][0]\n",
    "\n",
    "# Calculate the maximum age in the DataFrame\n",
    "max_age = df.agg({\"Age\": \"max\"}).collect()[0][0]\n",
    "\n",
    "# Calculate the minimum age in the DataFrame\n",
    "min_age = df.agg({\"Age\": \"min\"}).collect()[0][0]\n",
    "\n",
    "# Display these aggregate results\n",
    "print(\"Average age:\", avg_age)\n",
    "print(\"Maximum age:\", max_age)\n",
    "print(\"Minimum age:\", min_age)"
   ]
  },
  {
   "cell_type": "code",
   "execution_count": 4,
   "id": "f888c528",
   "metadata": {},
   "outputs": [
    {
     "name": "stdout",
     "output_type": "stream",
     "text": [
      "+----+--------+---+------------------+-------------------+----------+\n",
      "|S.no|    Name|Age|         Occuption|          Education|Department|\n",
      "+----+--------+---+------------------+-------------------+----------+\n",
      "|   1|   Shane| 36|        Kishan Lal|High School Diploma|        HR|\n",
      "|   2|     Ali| 30|          Engineer|    Master's Degree|        IT|\n",
      "|   3|  Sameer| 25|           Teacher| Doctor of Medicine|        IT|\n",
      "|   4|  Aakash| 35|            Doctor|  Bachelor's Degree|        IT|\n",
      "|   5|   Rohit| 28|Software Developer|  Bachelor's Degree|        IT|\n",
      "|   6|   Rahul| 40|        Accountant|  Bachelor's Degree|        IT|\n",
      "|   7|   Sumit| 29|  Graphic Designer|       Juris Doctor|        IT|\n",
      "|   8|   Ronak| 45|            Lawyer|  Bachelor's Degree|        IT|\n",
      "|   9|Priyanka| 32| Marketing Manager|High School Diploma|        IT|\n",
      "|  10| Fardeen| 27|           Student|  Bachelor's Degree|        IT|\n",
      "|  11|  Noshad| 38|             Nurse|  Bachelor's Degree|        IT|\n",
      "|  12|   Aakib| 31|         Architect|  Bachelor's Degree|        IT|\n",
      "|  13|    Nida| 33|        Journalist|  Bachelor's Degree|        IT|\n",
      "|  14|   Adiba| 42| Financial Analyst| Doctor of Pharmacy|        IT|\n",
      "|  15| chandni| 26|        Pharmacist|       Trade School|        IT|\n",
      "|  16|    Annu| 36|       Electrician|    Culinary School|        IT|\n",
      "|  17|    Aman| 29|              Chef|     Police Academy|        IT|\n",
      "|  18|  Anupma| 39|    Police Officer|    Master's Degree|        IT|\n",
      "|  19|  Salman| 34|         Librarian|  Bachelor's Degree|        IT|\n",
      "|  20|   Rehan| 37| Real Estate Agent|    Master's Degree|        IT|\n",
      "+----+--------+---+------------------+-------------------+----------+\n",
      "only showing top 20 rows\n",
      "\n"
     ]
    }
   ],
   "source": [
    "# Create a SparkSession\n",
    "spark = SparkSession.builder.appName(\"Read CSV\").getOrCreate()\n",
    "\n",
    "# Read the CSV file into a DataFrame\n",
    "df = spark.read.csv(\"New_person_data.csv\", header=True)\n",
    "\n",
    "# Show the DataFrame\n",
    "df.show()"
   ]
  },
  {
   "cell_type": "code",
   "execution_count": 8,
   "id": "82fffd51",
   "metadata": {},
   "outputs": [
    {
     "name": "stdout",
     "output_type": "stream",
     "text": [
      "+----------+-----------------+\n",
      "|department|         avg(Age)|\n",
      "+----------+-----------------+\n",
      "|        HR|             33.0|\n",
      "|        IT|33.78260869565217|\n",
      "+----------+-----------------+\n",
      "\n"
     ]
    }
   ],
   "source": [
    "# Create a new DataFrame by adding a \"department\" column to the existing DataFrame with values \"HR\" for id 1 and 2, and \"IT\" for the rest\n",
    "from pyspark.sql.functions import when\n",
    "\n",
    "df_new = df.withColumn(\"department\", when(df.S_no.isin([1, 2]), \"HR\").otherwise(\"IT\"))\n",
    "\n",
    "# Group the new DataFrame by the \"department\" column\n",
    "df_grouped = df_new.groupBy(\"department\")\n",
    "\n",
    "# Calculate the average age for each department\n",
    "df_avg_age = df_grouped.agg({\"Age\": \"avg\"})\n",
    "\n",
    "# Display the resulting DataFrame with department and its corresponding average age\n",
    "df_avg_age.show()"
   ]
  },
  {
   "cell_type": "code",
   "execution_count": 6,
   "id": "19c4b9cd",
   "metadata": {},
   "outputs": [],
   "source": [
    "df= df.withColumnRenamed('S.no','S_no')"
   ]
  },
  {
   "cell_type": "code",
   "execution_count": 7,
   "id": "428cb0be",
   "metadata": {},
   "outputs": [
    {
     "name": "stdout",
     "output_type": "stream",
     "text": [
      "+----+--------+---+------------------+-------------------+----------+\n",
      "|S_no|    Name|Age|         Occuption|          Education|Department|\n",
      "+----+--------+---+------------------+-------------------+----------+\n",
      "|   1|   Shane| 36|        Kishan Lal|High School Diploma|        HR|\n",
      "|   2|     Ali| 30|          Engineer|    Master's Degree|        IT|\n",
      "|   3|  Sameer| 25|           Teacher| Doctor of Medicine|        IT|\n",
      "|   4|  Aakash| 35|            Doctor|  Bachelor's Degree|        IT|\n",
      "|   5|   Rohit| 28|Software Developer|  Bachelor's Degree|        IT|\n",
      "|   6|   Rahul| 40|        Accountant|  Bachelor's Degree|        IT|\n",
      "|   7|   Sumit| 29|  Graphic Designer|       Juris Doctor|        IT|\n",
      "|   8|   Ronak| 45|            Lawyer|  Bachelor's Degree|        IT|\n",
      "|   9|Priyanka| 32| Marketing Manager|High School Diploma|        IT|\n",
      "|  10| Fardeen| 27|           Student|  Bachelor's Degree|        IT|\n",
      "|  11|  Noshad| 38|             Nurse|  Bachelor's Degree|        IT|\n",
      "|  12|   Aakib| 31|         Architect|  Bachelor's Degree|        IT|\n",
      "|  13|    Nida| 33|        Journalist|  Bachelor's Degree|        IT|\n",
      "|  14|   Adiba| 42| Financial Analyst| Doctor of Pharmacy|        IT|\n",
      "|  15| chandni| 26|        Pharmacist|       Trade School|        IT|\n",
      "|  16|    Annu| 36|       Electrician|    Culinary School|        IT|\n",
      "|  17|    Aman| 29|              Chef|     Police Academy|        IT|\n",
      "|  18|  Anupma| 39|    Police Officer|    Master's Degree|        IT|\n",
      "|  19|  Salman| 34|         Librarian|  Bachelor's Degree|        IT|\n",
      "|  20|   Rehan| 37| Real Estate Agent|    Master's Degree|        IT|\n",
      "+----+--------+---+------------------+-------------------+----------+\n",
      "only showing top 20 rows\n",
      "\n"
     ]
    }
   ],
   "source": [
    "df.show()"
   ]
  },
  {
   "cell_type": "code",
   "execution_count": null,
   "id": "9ce41abe",
   "metadata": {},
   "outputs": [],
   "source": []
  }
 ],
 "metadata": {
  "kernelspec": {
   "display_name": "Python 3 (ipykernel)",
   "language": "python",
   "name": "python3"
  },
  "language_info": {
   "codemirror_mode": {
    "name": "ipython",
    "version": 3
   },
   "file_extension": ".py",
   "mimetype": "text/x-python",
   "name": "python",
   "nbconvert_exporter": "python",
   "pygments_lexer": "ipython3",
   "version": "3.11.5"
  }
 },
 "nbformat": 4,
 "nbformat_minor": 5
}
